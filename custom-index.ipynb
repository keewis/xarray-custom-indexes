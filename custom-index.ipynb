{
 "cells": [
  {
   "cell_type": "code",
   "execution_count": null,
   "id": "1f09f76e-a2af-47db-8a67-98020637bd31",
   "metadata": {},
   "outputs": [],
   "source": [
    "import xarray as xr\n",
    "import numpy as np\n",
    "\n",
    "xr.set_options(display_style=\"text\", display_expand_data=False)"
   ]
  },
  {
   "cell_type": "code",
   "execution_count": null,
   "id": "5a225768-3d01-420c-9b63-0b9aed23dbf3",
   "metadata": {},
   "outputs": [],
   "source": [
    "lat = np.arange(-90, 90, 0.1)\n",
    "lon = np.arange(0, 360, 0.1)\n",
    "\n",
    "lat2d, lon2d = np.meshgrid(lat, lon)\n",
    "\n",
    "data = np.random.randn(*lat2d.shape)\n",
    "ds = xr.Dataset(\n",
    "    {\"data\": ((\"x\", \"y\"), data)},\n",
    "    coords={\"lat\": ((\"x\", \"y\"), lat2d), \"lon\": ((\"x\", \"y\"), lon2d)},\n",
    ")\n",
    "ds"
   ]
  },
  {
   "cell_type": "code",
   "execution_count": null,
   "id": "5f31aef1-93f8-4871-a888-2ee025b323ae",
   "metadata": {},
   "outputs": [],
   "source": [
    "ds.xindexes"
   ]
  },
  {
   "cell_type": "code",
   "execution_count": null,
   "id": "4fd48635-cecb-4623-b4d2-782dac4878e0",
   "metadata": {},
   "outputs": [],
   "source": [
    "from scipy.spatial import KDTree\n",
    "\n",
    "\n",
    "class KDTreeIndex(xr.core.indexes.Index):\n",
    "    def __init__(self, data, names, dims, **options):\n",
    "        self.names = names\n",
    "        self.dims = dims\n",
    "        self.shape = data.shape\n",
    "        self.kdtree = KDTree(data.reshape(-1, self.shape[-1]), **options)\n",
    "\n",
    "    @classmethod\n",
    "    def from_variables(cls, variables, **options):\n",
    "        data = np.concatenate(\n",
    "            [var.data[..., None] for var in variables.values()], axis=-1\n",
    "        )\n",
    "        dims = {var.dims for var in variables.values()}\n",
    "        if len(dims) != 1:\n",
    "            raise ValueError(\"variables need to have the same dimensions\")\n",
    "        (dims,) = dims\n",
    "        names = list(variables.keys())\n",
    "        return cls(data, names, dims, **options)\n",
    "\n",
    "    def sel(self, indexers):\n",
    "        unknown_dimensions = set(indexers) - set(self.names)\n",
    "        if unknown_dimensions:\n",
    "            raise ValueError(\"unknown dimensions:\", list(unknown_dimensions))\n",
    "\n",
    "        points = np.concatenate(\n",
    "            [indexers[name][..., None] for name in self.names],\n",
    "            axis=-1,\n",
    "        )\n",
    "\n",
    "        distances, indices_ = self.kdtree.query(points)\n",
    "        indices = np.unravel_index(indices_, self.shape[:-1])\n",
    "\n",
    "        isel_indexers = {\n",
    "            dim: xr.DataArray(\n",
    "                data, coords={\"distance\": (\"points\", distances)}, dims=\"points\"\n",
    "            )\n",
    "            for dim, data in zip(self.dims, indices)\n",
    "        }\n",
    "\n",
    "        return isel_indexers"
   ]
  },
  {
   "cell_type": "code",
   "execution_count": null,
   "id": "2e265e78-3fea-4476-8a57-67915b111e08",
   "metadata": {},
   "outputs": [],
   "source": [
    "tree = KDTreeIndex.from_variables(ds.coords)\n",
    "tree"
   ]
  },
  {
   "cell_type": "code",
   "execution_count": 6,
   "id": "128e4763-1e93-41cc-820e-d6f8ce25dd1f",
   "metadata": {},
   "outputs": [],
   "source": [
    "indexers = {\n",
    "    \"lat\": np.array([0.742, 10.213, 17.648]),\n",
    "    \"lon\": np.array([8.873, 3.12, 9.15]),\n",
    "}\n",
    "ds.isel(tree.sel(indexers))"
   ]
  }
 ],
 "metadata": {
  "kernelspec": {
   "display_name": "Python 3 (ipykernel)",
   "language": "python",
   "name": "python3"
  },
  "language_info": {
   "codemirror_mode": {
    "name": "ipython",
    "version": 3
   },
   "file_extension": ".py",
   "mimetype": "text/x-python",
   "name": "python",
   "nbconvert_exporter": "python",
   "pygments_lexer": "ipython3",
   "version": "3.9.10"
  }
 },
 "nbformat": 4,
 "nbformat_minor": 5
}
