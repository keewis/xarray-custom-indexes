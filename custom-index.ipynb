{
 "cells": [
  {
   "cell_type": "code",
   "execution_count": 1,
   "id": "1f09f76e-a2af-47db-8a67-98020637bd31",
   "metadata": {},
   "outputs": [],
   "source": [
    "import xarray as xr\n",
    "import numpy as np\n",
    "\n",
    "xr.set_options(display_style=\"text\", display_expand_data=False)\n",
    "rng = np.random.default_rng(seed=0)"
   ]
  },
  {
   "cell_type": "code",
   "execution_count": 3,
   "id": "5a225768-3d01-420c-9b63-0b9aed23dbf3",
   "metadata": {},
   "outputs": [
    {
     "data": {
      "text/html": [
       "<pre>&lt;xarray.DataArray (x: 3600, y: 1800)&gt;\n",
       "0.1257 -0.1321 0.6404 0.1049 -0.5357 ... 1.813 1.865 -0.1664 0.6568 -0.5354\n",
       "Coordinates:\n",
       "    lat      (x, y) float64 -90.0 -89.9 -89.8 -89.7 ... 89.6 89.7 89.8 89.9\n",
       "    lon      (x, y) float64 0.0 0.0 0.0 0.0 0.0 ... 359.9 359.9 359.9 359.9\n",
       "Dimensions without coordinates: x, y</pre>"
      ],
      "text/plain": [
       "<xarray.DataArray (x: 3600, y: 1800)>\n",
       "0.1257 -0.1321 0.6404 0.1049 -0.5357 ... 1.813 1.865 -0.1664 0.6568 -0.5354\n",
       "Coordinates:\n",
       "    lat      (x, y) float64 -90.0 -89.9 -89.8 -89.7 ... 89.6 89.7 89.8 89.9\n",
       "    lon      (x, y) float64 0.0 0.0 0.0 0.0 0.0 ... 359.9 359.9 359.9 359.9\n",
       "Dimensions without coordinates: x, y"
      ]
     },
     "execution_count": 3,
     "metadata": {},
     "output_type": "execute_result"
    }
   ],
   "source": [
    "lat = np.arange(-90, 90, 0.1)\n",
    "lon = np.arange(0, 360, 0.1)\n",
    "\n",
    "lat2d, lon2d = np.meshgrid(lat, lon)\n",
    "\n",
    "data = rng.standard_normal(lat2d.shape)\n",
    "arr = xr.DataArray(\n",
    "    data,\n",
    "    dims=(\"x\", \"y\"),\n",
    "    coords={\"lat\": ((\"x\", \"y\"), lat2d), \"lon\": ((\"x\", \"y\"), lon2d)},\n",
    ")\n",
    "arr"
   ]
  },
  {
   "cell_type": "code",
   "execution_count": 3,
   "id": "5f31aef1-93f8-4871-a888-2ee025b323ae",
   "metadata": {},
   "outputs": [
    {
     "data": {
      "text/plain": [
       "Indexes:"
      ]
     },
     "execution_count": 3,
     "metadata": {},
     "output_type": "execute_result"
    }
   ],
   "source": [
    "arr.xindexes"
   ]
  },
  {
   "cell_type": "code",
   "execution_count": 4,
   "id": "4fd48635-cecb-4623-b4d2-782dac4878e0",
   "metadata": {},
   "outputs": [],
   "source": [
    "from scipy.spatial import KDTree\n",
    "\n",
    "\n",
    "class KDTreeIndex(xr.core.indexes.Index):\n",
    "    def __init__(self, data, names, dim, **options):\n",
    "        self.names = names\n",
    "        self.dim = dim\n",
    "        self.shape = data.shape\n",
    "        self.index = KDTree(data.reshape(-1, self.shape[-1]), **options)\n",
    "\n",
    "    @classmethod\n",
    "    def from_variables(cls, variables, **options):\n",
    "        data = np.concatenate(\n",
    "            [var.data[..., None] for var in variables.values()], axis=-1\n",
    "        )\n",
    "        dims = {var.dims for var in variables.values()}\n",
    "        if len(dims) != 1:\n",
    "            raise ValueError(\"variables need to have the same dimensions\")\n",
    "        (dims,) = dims\n",
    "        names = list(variables.keys())\n",
    "        return cls(data, names, dims, **options)\n",
    "\n",
    "    def sel(self, indexers):\n",
    "        unknown_dimensions = set(indexers) - set(self.names)\n",
    "        if unknown_dimensions:\n",
    "            raise ValueError(\"unknown dimensions:\", list(unknown_dimensions))\n",
    "\n",
    "        points = np.concatenate(\n",
    "            [indexers[name][..., None] for name in self.names],\n",
    "            axis=-1,\n",
    "        )\n",
    "\n",
    "        distances, indices_ = self.index.query(points)\n",
    "        indices = np.unravel_index(indices_, self.shape[:-1])\n",
    "\n",
    "        isel_indexers = {\n",
    "            dim: xr.DataArray(\n",
    "                data, coords={\"distance\": (\"points\", distances)}, dims=\"points\"\n",
    "            )\n",
    "            for dim, data in zip(self.dim, indices)\n",
    "        }\n",
    "\n",
    "        return xr.core.indexes.IndexSelResult(isel_indexers)"
   ]
  },
  {
   "cell_type": "code",
   "execution_count": 5,
   "id": "2e265e78-3fea-4476-8a57-67915b111e08",
   "metadata": {},
   "outputs": [
    {
     "data": {
      "text/plain": [
       "<__main__.KDTreeIndex at 0x7f90f82968b0>"
      ]
     },
     "execution_count": 5,
     "metadata": {},
     "output_type": "execute_result"
    }
   ],
   "source": [
    "tree = KDTreeIndex.from_variables(arr.coords)\n",
    "tree"
   ]
  },
  {
   "cell_type": "code",
   "execution_count": 6,
   "id": "87977264-3a5a-4378-a50d-49c05e377608",
   "metadata": {},
   "outputs": [
    {
     "data": {
      "text/html": [
       "<pre>&lt;xarray.DataArray (x: 3600, y: 1800)&gt;\n",
       "0.5236 1.364 1.516 0.3978 -1.871 1.009 ... -0.2158 -1.338 -0.6278 2.928 -1.114\n",
       "Coordinates:\n",
       "  * lat      (x, y) float64 -90.0 -89.9 -89.8 -89.7 ... 89.6 89.7 89.8 89.9\n",
       "  * lon      (x, y) float64 0.0 0.0 0.0 0.0 0.0 ... 359.9 359.9 359.9 359.9\n",
       "Dimensions without coordinates: x, y</pre>"
      ],
      "text/plain": [
       "<xarray.DataArray (x: 3600, y: 1800)>\n",
       "0.5236 1.364 1.516 0.3978 -1.871 1.009 ... -0.2158 -1.338 -0.6278 2.928 -1.114\n",
       "Coordinates:\n",
       "  * lat      (x, y) float64 -90.0 -89.9 -89.8 -89.7 ... 89.6 89.7 89.8 89.9\n",
       "  * lon      (x, y) float64 0.0 0.0 0.0 0.0 0.0 ... 359.9 359.9 359.9 359.9\n",
       "Dimensions without coordinates: x, y"
      ]
     },
     "execution_count": 6,
     "metadata": {},
     "output_type": "execute_result"
    }
   ],
   "source": [
    "new_arr = xr.DataArray(\n",
    "    arr.variable,\n",
    "    coords={\n",
    "        \"lat\": xr.Variable((\"x\", \"y\"), lat2d),\n",
    "        \"lon\": xr.Variable((\"x\", \"y\"), lon2d),\n",
    "    },\n",
    "    indexes={\"lat\": tree, \"lon\": tree},\n",
    "    fastpath=True,\n",
    ")\n",
    "new_arr"
   ]
  },
  {
   "cell_type": "code",
   "execution_count": 7,
   "id": "c0da7bfb-da63-4f55-8dc7-7e1deb221b85",
   "metadata": {},
   "outputs": [
    {
     "data": {
      "text/plain": [
       "Indexes:\n",
       "lat: <__main__.KDTreeIndex object at 0x7f90f82968b0>\n",
       "lon: <__main__.KDTreeIndex object at 0x7f90f82968b0>"
      ]
     },
     "execution_count": 7,
     "metadata": {},
     "output_type": "execute_result"
    }
   ],
   "source": [
    "new_arr.xindexes"
   ]
  },
  {
   "cell_type": "code",
   "execution_count": 8,
   "id": "128e4763-1e93-41cc-820e-d6f8ce25dd1f",
   "metadata": {},
   "outputs": [],
   "source": [
    "indexers = {\n",
    "    \"lat\": np.array([0.742, 10.213, 17.648]),\n",
    "    \"lon\": np.array([8.873, 3.12, 9.15]),\n",
    "}"
   ]
  },
  {
   "cell_type": "code",
   "execution_count": 9,
   "id": "80313cf5-f77c-4279-adb2-2ea9ad115064",
   "metadata": {},
   "outputs": [
    {
     "data": {
      "text/html": [
       "<pre>&lt;xarray.DataArray (points: 3)&gt;\n",
       "0.2345 -1.423 -0.519\n",
       "Coordinates:\n",
       "    lat       (points) float64 0.7 10.2 17.6\n",
       "    lon       (points) float64 8.9 3.1 9.1\n",
       "    distance  (points) float64 0.04993 0.02385 0.06931\n",
       "Dimensions without coordinates: points</pre>"
      ],
      "text/plain": [
       "<xarray.DataArray (points: 3)>\n",
       "0.2345 -1.423 -0.519\n",
       "Coordinates:\n",
       "    lat       (points) float64 0.7 10.2 17.6\n",
       "    lon       (points) float64 8.9 3.1 9.1\n",
       "    distance  (points) float64 0.04993 0.02385 0.06931\n",
       "Dimensions without coordinates: points"
      ]
     },
     "execution_count": 9,
     "metadata": {},
     "output_type": "execute_result"
    }
   ],
   "source": [
    "new_arr.sel(indexers)"
   ]
  }
 ],
 "metadata": {
  "kernelspec": {
   "display_name": "Python 3 (ipykernel)",
   "language": "python",
   "name": "python3"
  },
  "language_info": {
   "codemirror_mode": {
    "name": "ipython",
    "version": 3
   },
   "file_extension": ".py",
   "mimetype": "text/x-python",
   "name": "python",
   "nbconvert_exporter": "python",
   "pygments_lexer": "ipython3",
   "version": "3.9.10"
  }
 },
 "nbformat": 4,
 "nbformat_minor": 5
}
